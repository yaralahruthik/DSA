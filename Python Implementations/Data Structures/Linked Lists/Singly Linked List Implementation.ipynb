{
 "cells": [
  {
   "cell_type": "markdown",
   "metadata": {},
   "source": [
    "# Linked List Implementation\n",
    "## 15 --> 6 --> 8"
   ]
  },
  {
   "cell_type": "code",
   "execution_count": 1,
   "metadata": {},
   "outputs": [],
   "source": [
    "class Node():\n",
    "    def __init__(self, data):\n",
    "        self.data = data\n",
    "        self.next = None"
   ]
  },
  {
   "cell_type": "code",
   "execution_count": 4,
   "metadata": {},
   "outputs": [],
   "source": [
    "class LinkedList():\n",
    "    def __init__(self):\n",
    "        self.head = None\n",
    "        self.tail = None\n",
    "        self.length = 0\n",
    "        \n",
    "    def append(self, data):\n",
    "        new_node = Node(data)\n",
    "        if self.head == None:\n",
    "            self.head = new_node\n",
    "            self.tail = self.head\n",
    "            self.length = 1\n",
    "        else:\n",
    "            self.tail.next = new_node\n",
    "            self.tail = new_node\n",
    "            self.length += 1\n",
    "    \n",
    "    def prepend(self, data):\n",
    "        new_node = Node(data)\n",
    "        new_node.next = self.head\n",
    "        self.head = new_node\n",
    "        self.length += 1\n",
    "        \n",
    "    def insert(self, index, data):\n",
    "        new_node = Node(data)\n",
    "        i = 0\n",
    "        temp = self.head\n",
    "        if index >= self.length:\n",
    "            self.append(data)\n",
    "            return\n",
    "        if index == 0:\n",
    "            self.prepend(data)\n",
    "            return\n",
    "        while i < self.length:\n",
    "            if i == index-1:\n",
    "                temp.next, new_node.next = new_node, temp.next\n",
    "                self.length += 1\n",
    "                break\n",
    "            i += 1\n",
    "            temp = temp.next\n",
    "            \n",
    "    def remove(self, index):\n",
    "        i = 0\n",
    "        temp = self.head\n",
    "        if index >= self.length:\n",
    "            print('Out of Range Index')\n",
    "        if index == 0:\n",
    "            self.head = self.head.next\n",
    "            self.length -= 1\n",
    "            return\n",
    "        while i < self.length:\n",
    "            if i == index-1:\n",
    "                temp.next = temp.next.next\n",
    "                self.length -= 1\n",
    "                break\n",
    "            i += 1\n",
    "            temp = temp.next\n",
    "    \n",
    "    def printLinkedList(self):\n",
    "        temp = self.head\n",
    "        while temp != None:\n",
    "            print(temp.data, end = '-->')\n",
    "            temp = temp.next\n",
    "        print('None')\n",
    "        print('Length = ' + str(self.length))\n",
    "    \n",
    "    def reverse(self):\n",
    "        prev = None\n",
    "        self.tail = self.head\n",
    "        while self.head != None:\n",
    "            temp = self.head\n",
    "            self.head = self.head.next\n",
    "            temp.next = prev\n",
    "            prev = temp\n",
    "        self.head = temp"
   ]
  },
  {
   "cell_type": "code",
   "execution_count": 5,
   "metadata": {},
   "outputs": [
    {
     "name": "stdout",
     "output_type": "stream",
     "text": [
      "6-->5-->99-->10-->1-->None\n",
      "Length = 5\n",
      "6 1\n"
     ]
    }
   ],
   "source": [
    "l = LinkedList()\n",
    "l.append(10)\n",
    "l.append(5)\n",
    "l.append(6)\n",
    "l.prepend(1)\n",
    "l.insert(2,99)\n",
    "l.insert(34,23)\n",
    "l.remove(5)\n",
    "l.reverse()\n",
    "l.printLinkedList()\n",
    "print(l.head.data, l.tail.data)"
   ]
  },
  {
   "cell_type": "code",
   "execution_count": null,
   "metadata": {},
   "outputs": [],
   "source": []
  }
 ],
 "metadata": {
  "kernelspec": {
   "display_name": "Python 3",
   "language": "python",
   "name": "python3"
  },
  "language_info": {
   "codemirror_mode": {
    "name": "ipython",
    "version": 3
   },
   "file_extension": ".py",
   "mimetype": "text/x-python",
   "name": "python",
   "nbconvert_exporter": "python",
   "pygments_lexer": "ipython3",
   "version": "3.8.3"
  }
 },
 "nbformat": 4,
 "nbformat_minor": 4
}
