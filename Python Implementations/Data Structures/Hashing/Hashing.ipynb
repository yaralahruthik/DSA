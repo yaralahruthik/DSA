{
 "cells": [
  {
   "cell_type": "markdown",
   "metadata": {},
   "source": [
    "## Hashing\n",
    "1. We can build a data structure that can be searched in O(1) time. This concept is known as hashing.\n",
    "2. We can implement a hash table by using a list with each element initialised to None.\n",
    "3. In case of Collision of hash values, we do collision resolution i.e., by open addressing. Basically finding next sequential open slot (Linear Probing).\n",
    "4. We also do rehashing and quadratic probing if required. Or chaining of item at the same location can also be done.\n",
    "\n",
    "In python, the built-in Dictionary is the hash table, no need of special hash tables to be implemented or imported."
   ]
  },
  {
   "cell_type": "code",
   "execution_count": 1,
   "metadata": {},
   "outputs": [],
   "source": [
    "class HashTable(object):\n",
    "    def __init__(self, size):\n",
    "        self.size = size\n",
    "        self.slots = [None]*self.size\n",
    "        self.data = [None]*self.size\n",
    "    \n",
    "    def put(self, key, data):\n",
    "        hashValue = self.hashFunction(key, len(self.slots))\n",
    "        \n",
    "        if self.slots[hashValue] == None:\n",
    "            self.slots[hashValue] = key\n",
    "            self.data[hashValue] = data\n",
    "        else:\n",
    "            if self.slots[hashValue] == key:\n",
    "                self.data[hashValue] = data\n",
    "            else:\n",
    "                nextSlot = self.rehash(hashValue, len(self.slots))\n",
    "                \n",
    "                while self.slots[nextSlot] != None and self.slots[nextSlot] != key:\n",
    "                    nextSlot = self.rehash(nextSlot, len(self.slots))\n",
    "                \n",
    "                if self.slots[nextSlot] == None:\n",
    "                    self.slots[nextSlot] = key\n",
    "                    self.data[nextSlot] = data\n",
    "                else:\n",
    "                    self.data[nextSlot] = data\n",
    "    \n",
    "    def hashFunction(self, key, size):\n",
    "        return key%size\n",
    "    \n",
    "    def rehash(self, oldHash, size):\n",
    "        return (oldHash+1)%size\n",
    "    \n",
    "    def get(self, key):\n",
    "        startSlot = self.hashFunction(key, len(self.slots))\n",
    "        data = None\n",
    "        stop = False\n",
    "        found = False\n",
    "        position = startSlot\n",
    "        \n",
    "        while self.slots[position] != None and not found and not stop:\n",
    "            if self.slots[position] == key: \n",
    "                found = True\n",
    "                data = self.data[position]\n",
    "            else:\n",
    "                position = self.rehash(position, len(self.slots))\n",
    "                if position == startSlot:\n",
    "                    stop = True\n",
    "        return data        \n",
    "    \n",
    "    def __getitem__(self, key):\n",
    "        return self.get(key)\n",
    "    \n",
    "    def __setitem__(self, key, data):\n",
    "        return self.put(key, data)"
   ]
  },
  {
   "cell_type": "code",
   "execution_count": 2,
   "metadata": {},
   "outputs": [],
   "source": [
    "h = HashTable(5)"
   ]
  },
  {
   "cell_type": "code",
   "execution_count": 3,
   "metadata": {},
   "outputs": [],
   "source": [
    "h[1] = 'one'"
   ]
  },
  {
   "cell_type": "code",
   "execution_count": null,
   "metadata": {},
   "outputs": [],
   "source": [
    "h[2] = 'tw'"
   ]
  }
 ],
 "metadata": {
  "kernelspec": {
   "display_name": "Python 3",
   "language": "python",
   "name": "python3"
  },
  "language_info": {
   "codemirror_mode": {
    "name": "ipython",
    "version": 3
   },
   "file_extension": ".py",
   "mimetype": "text/x-python",
   "name": "python",
   "nbconvert_exporter": "python",
   "pygments_lexer": "ipython3",
   "version": "3.8.3"
  }
 },
 "nbformat": 4,
 "nbformat_minor": 4
}
