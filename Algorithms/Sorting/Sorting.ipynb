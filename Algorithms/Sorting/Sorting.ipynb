{
 "cells": [
  {
   "cell_type": "markdown",
   "metadata": {},
   "source": [
    "Sorting algorithms visualization at https://visualgo.net/en and at https://www.toptal.com/developers/sorting-algorithms"
   ]
  },
  {
   "cell_type": "markdown",
   "metadata": {},
   "source": [
    "## Bubble Sort \n",
    "### Time Complexity: Worst Case is O(n^2), Best Case is O(n).\n",
    "### Space Complexity: O(1).\n",
    "1. The bubble sort makes multiple passes through a list.\n",
    "2. It compares adjacent items and exchanges those that are out of order.\n",
    "3. Each pass through the list places the next largest value in its proper place.\n",
    "4. Each item \"bubbles\" up to the location where it belongs"
   ]
  },
  {
   "cell_type": "code",
   "execution_count": 1,
   "metadata": {},
   "outputs": [],
   "source": [
    "def bubSort(arr):\n",
    "    for n in range(len(arr)-1, 0, -1):\n",
    "        for k in range(n):\n",
    "            if arr[k] > arr[k+1]:\n",
    "                temp = arr[k]\n",
    "                arr[k] = arr[k+1]\n",
    "                arr[k+1] = temp\n",
    "    return arr"
   ]
  },
  {
   "cell_type": "markdown",
   "metadata": {},
   "source": [
    "## Selection Sort\n",
    "### Time Complexity: Worst Case is O(n^2), Best Case is O(n^2).\n",
    "### Space Complexity: O(1).\n",
    "1. The selection sort improves on the bubble sort by making only one exchange for every pass through the list.\n",
    "2. A selection sort looks for the largest value as it makes a pass and, after completing the pass, places it in the proper location.\n",
    "3. After the first pass, the largest item is in the correct place. After the second pass, the next largest is in place.\n",
    "4. This process continues and requires n-1 passes to sort n items, since the final item must be in place after the (n-1)st pass."
   ]
  },
  {
   "cell_type": "code",
   "execution_count": 3,
   "metadata": {},
   "outputs": [],
   "source": [
    "def selSort(arr):\n",
    "    for n in range(len(arr)-1, 0, -1):\n",
    "        posMax = 0\n",
    "        for loc in range(1, n+1):\n",
    "            if arr[loc] > arr[posMax]:\n",
    "                posMax = loc\n",
    "        temp = arr[n]\n",
    "        arr[n] = arr[posMax]\n",
    "        arr[posMax] = temp\n",
    "    return arr"
   ]
  },
  {
   "cell_type": "markdown",
   "metadata": {},
   "source": [
    "## Insertion Sort\n",
    "### Time Complexity: Worst Case is O(n^2), Best Case is O(n).\n",
    "### Space Complexity: O(1).\n",
    "1. Insertion sort always maintains a sorted sublist in the lower positions of the list.\n",
    "2. Each new item is then \"inserted\" back into the previous sublist such that the sorted sublist is one item larger.\n",
    "3. We begin by assuming that a list with one item (position 0) is already sorted.\n",
    "4. On each pass, one for each item 1 through n-1, the current item is checked against those in hte already sorted sublist.\n",
    "5. As we look back into the already sorted sublist, we shift those items that are greater to the right.\n",
    "6. When we reach a smaller item or the end of the sublist, the current item can be inserted."
   ]
  },
  {
   "cell_type": "code",
   "execution_count": 1,
   "metadata": {},
   "outputs": [],
   "source": [
    "def insertionSort(arr):\n",
    "    for i in range(1, len(arr)):\n",
    "        currentValue = arr[i]\n",
    "        pos = i\n",
    "        while pos > 0 and arr[pos-1] > currentValue:\n",
    "            arr[pos] = arr[pos-1]\n",
    "            pos -= 1\n",
    "        arr[pos] = currentValue\n",
    "    return arr"
   ]
  },
  {
   "cell_type": "markdown",
   "metadata": {},
   "source": [
    "## Shell Sort\n",
    "### Time Complexity: Worst Case depends on gap sequence, Average Case is n*log(n)or n^(3/2), and Best Case is O(n).\n",
    "### Space Complexity: O(1).\n",
    "1. The shell sort improves on the insertion sort by breaking the original list into a number of smaller sublists.\n",
    "2. The unique way that these sublists are chosen is the key to the shell sort.\n",
    "3. Instead of breaking the list into sublists of contiguous items, the shell sort uses an increment \"i\", sometimes called the gap, to create a sublist by choosing all items that are \"i\" items apart."
   ]
  },
  {
   "cell_type": "code",
   "execution_count": 1,
   "metadata": {},
   "outputs": [],
   "source": [
    "def shellSort(arr):\n",
    "    subListCount = len(arr)//2\n",
    "    while subListCount > 0:\n",
    "        for start in range(subListCount):\n",
    "            gapInsertionSort(arr, start, subListCount)\n",
    "        subListCount = subListCount//2\n",
    "    return arr\n",
    "\n",
    "def gapInsertionSort(arr, start, gap):\n",
    "    for i in range(start+gap, len(arr), gap):\n",
    "        currentValue = arr[i]\n",
    "        pos = i\n",
    "        while pos >= gap and arr[pos-gap] > currentValue:\n",
    "            arr[pos] = arr[pos-gap]\n",
    "            pos = pos-gap\n",
    "        arr[pos] = currentValue"
   ]
  },
  {
   "cell_type": "markdown",
   "metadata": {},
   "source": [
    "## Merge Sort\n",
    "### Time Complexity: O(n*Log(n)) in all cases.\n",
    "### Space Complexity: O(n).\n",
    "1. Merge sort is a recursive algorithm that continually splits a list in half. \n",
    "2. If the list is empty or has one item, it is sorted by definition (the base case). \n",
    "3. If the list has more than one item, we split the list and recursively invoke a merge sort on both halves. \n",
    "4. Once the two halves are sorted, the fundamental operation, called a merge, is performed. \n",
    "5. Merging is the process of taking two smaller sorted lists and combining them together into a single, sorted, new list. "
   ]
  },
  {
   "cell_type": "code",
   "execution_count": 1,
   "metadata": {},
   "outputs": [],
   "source": [
    "def merge_sort(arr):\n",
    "    if len(arr)>1:\n",
    "        mid = len(arr)/2\n",
    "        lefthalf = arr[:mid]\n",
    "        righthalf = arr[mid:]\n",
    "\n",
    "        merge_sort(lefthalf)\n",
    "        merge_sort(righthalf)\n",
    "\n",
    "        i=0\n",
    "        j=0\n",
    "        k=0\n",
    "        \n",
    "        while i < len(lefthalf) and j < len(righthalf):\n",
    "            if lefthalf[i] < righthalf[j]:\n",
    "                arr[k]=lefthalf[i]\n",
    "                i=i+1\n",
    "            else:\n",
    "                arr[k]=righthalf[j]\n",
    "                j=j+1\n",
    "            k=k+1\n",
    "\n",
    "        while i < len(lefthalf):\n",
    "            arr[k]=lefthalf[i]\n",
    "            i=i+1\n",
    "            k=k+1\n",
    "\n",
    "        while j < len(righthalf):\n",
    "            arr[k]=righthalf[j]\n",
    "            j=j+1\n",
    "            k=k+1\n",
    "            \n",
    "## Two different functions approach\n",
    "def merge_sort_two_function(array):\n",
    "    if len(array) == 1:\n",
    "        return array\n",
    "    else:\n",
    "        mid = len(array)//2\n",
    "        left_array = array[:mid]\n",
    "        right_array = array[mid:]\n",
    "        print(f'Left : {left_array}')\n",
    "        print(f'Right : {right_array}')\n",
    "        return merge(merge_sort(left_array),merge_sort(right_array))\n",
    "    \n",
    "def merge(left, right):\n",
    "    l = len(left)\n",
    "    r = len(right)\n",
    "    left_index = 0\n",
    "    right_index = 0\n",
    "    sorted_array = []\n",
    "    while (left_index < l and right_index < r):\n",
    "        global count\n",
    "        count += 1\n",
    "        if left[left_index] < right[right_index]:\n",
    "            sorted_array.append(left[left_index])\n",
    "            left_index += 1\n",
    "        else:\n",
    "            sorted_array.append(right[right_index])\n",
    "            right_index += 1\n",
    "    print(sorted_array + left[left_index:] + right[right_index:])\n",
    "    return sorted_array + left[left_index:] + right[right_index:]"
   ]
  },
  {
   "cell_type": "markdown",
   "metadata": {},
   "source": [
    "## Quick Sort\n",
    "### Time Complexity: O(n*Log(n)) in all cases but if bad pivot then O(n^2)\n",
    "### Space Complexity: O(n).\n",
    "1. Quick Sort is another sorting algorithm which follows divide and conquer approach.\n",
    "2. It requires to chose a pivot, then place all elements smaller than the pivot on the left of the pivot and all elements larger on the right.\n",
    "3. Then the array is partitioned in the pivot position and the left and right arrays followthe same procedure until the base case is reached.\n",
    "4. After each pass the pivot element occupies its correct position in the array.\n",
    "5. Quick Sort is another sorting algorithm which follows divide and conquer approach.\n",
    "6. In this implementation, we will take the last element as pivot."
   ]
  },
  {
   "cell_type": "code",
   "execution_count": 2,
   "metadata": {},
   "outputs": [],
   "source": [
    "def partition(array, left, right):\n",
    "    smaller_index = left - 1\n",
    "    pivot = array[right]\n",
    "    for i in range(left, right):\n",
    "        global count\n",
    "        count += 1\n",
    "        if array[i] < pivot:\n",
    "            smaller_index += 1\n",
    "            array[smaller_index], array[i] = array[i], array[smaller_index]\n",
    "    array[smaller_index+1], array[right] = array[right], array[smaller_index+1]\n",
    "    print(array)\n",
    "    return (smaller_index+1)\n",
    "\n",
    "def quick_sort(array, left, right):\n",
    "    if left < right:\n",
    "        partitioning_index = partition(array, left, right)\n",
    "        print(partitioning_index)\n",
    "        quick_sort(array,left,partitioning_index-1)\n",
    "        quick_sort(array,partitioning_index+1,right)"
   ]
  },
  {
   "cell_type": "markdown",
   "metadata": {},
   "source": [
    "## Heap Sort\n",
    "### Time Complexity: O(n*Log(n)) in all cases.\n",
    "### Space Complexity: O(1).\n",
    "1. Heap Sort as the name suggests, uses the heap data structure.\n",
    "2. First the array is converted into a binary heap. Then the first element which is the maximum elemet in case of a max-heap, is swapped with the last element so that the maximum element goes to the end of the array as it should be in a sorted array.\n",
    "3. Then the heap size is reduced by 1 and max-heapify function is called on the root."
   ]
  },
  {
   "cell_type": "code",
   "execution_count": 3,
   "metadata": {},
   "outputs": [],
   "source": [
    "count = 0\n",
    "def max_heapify(array, heap_size, i):\n",
    "    left = 2 * i + 1\n",
    "    right = 2 * i + 2\n",
    "    largest = i\n",
    "    global count\n",
    "    if left < heap_size:\n",
    "        count += 1\n",
    "        if array[left] > array[largest]:\n",
    "            largest = left\n",
    "    if right < heap_size:\n",
    "        count += 1\n",
    "        if array[right] > array[largest]:\n",
    "            largest = right\n",
    "    if largest != i:\n",
    "        array[i], array[largest] = array[largest], array[i]\n",
    "        max_heapify(array, heap_size, largest)\n",
    "\n",
    "def build_heap(array):\n",
    "    heap_size = len(array)\n",
    "    for i in range ((heap_size//2),-1,-1):\n",
    "        max_heapify(array,heap_size, i)\n",
    "\n",
    "def heap_sort(array):\n",
    "    heap_size = len(array)\n",
    "    build_heap(array)\n",
    "    print (f'Heap : {array}')\n",
    "    for i in range(heap_size-1,0,-1):\n",
    "        array[0], array[i] = array[i], array[0]\n",
    "        heap_size -= 1\n",
    "        max_heapify(array, heap_size, 0)"
   ]
  }
 ],
 "metadata": {
  "kernelspec": {
   "display_name": "Python 3",
   "language": "python",
   "name": "python3"
  },
  "language_info": {
   "codemirror_mode": {
    "name": "ipython",
    "version": 3
   },
   "file_extension": ".py",
   "mimetype": "text/x-python",
   "name": "python",
   "nbconvert_exporter": "python",
   "pygments_lexer": "ipython3",
   "version": "3.8.3"
  }
 },
 "nbformat": 4,
 "nbformat_minor": 4
}
