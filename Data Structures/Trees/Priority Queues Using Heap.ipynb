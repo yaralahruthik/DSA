{
 "cells": [
  {
   "cell_type": "code",
   "execution_count": 1,
   "metadata": {},
   "outputs": [
    {
     "name": "stdout",
     "output_type": "stream",
     "text": [
      "The created heap is: [1, 3, 9, 7, 5]\n",
      "The modified heap after push is: [1, 3, 4, 7, 5, 9]\n",
      "The popped and smallest element is : 1\n"
     ]
    }
   ],
   "source": [
    "import heapq\n",
    "\n",
    "li = [5, 7, 9, 1, 3]\n",
    "heapq.heapify(li)\n",
    "print('The created heap is: ', end='')\n",
    "print(list(li))\n",
    "heapq.heappush(li, 4)\n",
    "print('The modified heap after push is: ', end='')\n",
    "print(list(li))\n",
    "print(\"The popped and smallest element is : \", end=\"\")\n",
    "print(heapq.heappop(li))"
   ]
  },
  {
   "cell_type": "code",
   "execution_count": 2,
   "metadata": {},
   "outputs": [
    {
     "name": "stdout",
     "output_type": "stream",
     "text": [
      "The popped item using heappushpop() is : 2\n",
      "The popped item using heapreplace() is : 3\n"
     ]
    }
   ],
   "source": [
    "li1 = [5, 7, 9, 4, 3]\n",
    "li2 = [5, 7, 9, 4, 3]\n",
    "heapq.heapify(li1)\n",
    "heapq.heapify(li2)\n",
    "print(\"The popped item using heappushpop() is : \", end=\"\")\n",
    "print(heapq.heappushpop(li1, 2))\n",
    "print(\"The popped item using heapreplace() is : \", end=\"\")\n",
    "print(heapq.heapreplace(li2, 2))"
   ]
  }
 ],
 "metadata": {
  "kernelspec": {
   "display_name": "Python 3",
   "language": "python",
   "name": "python3"
  },
  "language_info": {
   "codemirror_mode": {
    "name": "ipython",
    "version": 3
   },
   "file_extension": ".py",
   "mimetype": "text/x-python",
   "name": "python",
   "nbconvert_exporter": "python",
   "pygments_lexer": "ipython3",
   "version": "3.8.3"
  }
 },
 "nbformat": 4,
 "nbformat_minor": 4
}
