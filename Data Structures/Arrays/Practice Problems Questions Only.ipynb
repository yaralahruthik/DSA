{
 "cells": [
  {
   "cell_type": "markdown",
   "metadata": {},
   "source": [
    "1. https://leetcode.com/problems/two-sum/description/\n",
    "2. https://leetcode.com/problems/maximum-subarray/description/\n",
    "3. https://leetcode.com/problems/move-zeroes/description/\n",
    "4. https://leetcode.com/problems/contains-duplicate/description/\n",
    "5. https://leetcode.com/problems/rotate-array/description/\n",
    "### Bonus:\n",
    "6. https://www.coderbyte.com/language/Longest%20Word"
   ]
  }
 ],
 "metadata": {
  "kernelspec": {
   "display_name": "Python 3",
   "language": "python",
   "name": "python3"
  },
  "language_info": {
   "codemirror_mode": {
    "name": "ipython",
    "version": 3
   },
   "file_extension": ".py",
   "mimetype": "text/x-python",
   "name": "python",
   "nbconvert_exporter": "python",
   "pygments_lexer": "ipython3",
   "version": "3.8.3"
  }
 },
 "nbformat": 4,
 "nbformat_minor": 4
}
