{
 "cells": [
  {
   "cell_type": "markdown",
   "metadata": {},
   "source": [
    "## Trie Implementation"
   ]
  },
  {
   "cell_type": "code",
   "execution_count": 1,
   "metadata": {},
   "outputs": [],
   "source": [
    "class TrieNode():\n",
    "    def __init__(self):\n",
    "        self.children = [None]*26\n",
    "        self.is_end_of_word = False"
   ]
  },
  {
   "cell_type": "code",
   "execution_count": 2,
   "metadata": {},
   "outputs": [],
   "source": [
    "class Trie():\n",
    "    def __init__(self):\n",
    "        self.root = TrieNode()\n",
    "        \n",
    "    def _character_index(self, char):\n",
    "        if char.isupper():\n",
    "            return ord(char) - ord('A')\n",
    "        else:\n",
    "            return ord(char) - ord('a')\n",
    "        \n",
    "    def insert(self, string):\n",
    "        pointer = self.root\n",
    "        for character in string:\n",
    "            index = self._character_index(character)\n",
    "            if not pointer.children[index]:\n",
    "                pointer.children[index] = TrieNode()\n",
    "            pointer = pointer.children[index]\n",
    "        pointer.is_end_of_word = True\n",
    "        return\n",
    "    \n",
    "    def search(self, string):\n",
    "        pointer = self.root\n",
    "        for character in string:\n",
    "            index = self._character_index(character)\n",
    "            if not pointer.children[index]:\n",
    "                return False\n",
    "            pointer = pointer.children[index]\n",
    "        return pointer and pointer.is_end_of_word"
   ]
  },
  {
   "cell_type": "code",
   "execution_count": 3,
   "metadata": {},
   "outputs": [
    {
     "name": "stdout",
     "output_type": "stream",
     "text": [
      "True\n",
      "True\n",
      "False\n",
      "True\n"
     ]
    }
   ],
   "source": [
    "my_trie = Trie()\n",
    "my_trie.insert('Data')\n",
    "my_trie.insert(\"Structures\")\n",
    "my_trie.insert(\"and\")\n",
    "my_trie.insert(\"Algorithms\")\n",
    "print(my_trie.search(\"and\"))\n",
    "print(my_trie.search(\"Data\"))\n",
    "print(my_trie.search(\"woohoo\"))\n",
    "print(my_trie.search(\"STructures\"))"
   ]
  }
 ],
 "metadata": {
  "kernelspec": {
   "display_name": "Python 3",
   "language": "python",
   "name": "python3"
  },
  "language_info": {
   "codemirror_mode": {
    "name": "ipython",
    "version": 3
   },
   "file_extension": ".py",
   "mimetype": "text/x-python",
   "name": "python",
   "nbconvert_exporter": "python",
   "pygments_lexer": "ipython3",
   "version": "3.8.3"
  }
 },
 "nbformat": 4,
 "nbformat_minor": 4
}
