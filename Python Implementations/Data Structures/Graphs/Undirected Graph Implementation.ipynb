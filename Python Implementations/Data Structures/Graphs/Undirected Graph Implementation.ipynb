{
 "cells": [
  {
   "cell_type": "markdown",
   "metadata": {},
   "source": [
    "## Graph Implementation"
   ]
  },
  {
   "cell_type": "code",
   "execution_count": 1,
   "metadata": {},
   "outputs": [],
   "source": [
    "class Graph():\n",
    "    def __init__(self):\n",
    "        self.number_of_nodes = 0\n",
    "        self.adjacency_list = {}\n",
    "        \n",
    "    def insert_node(self, data):\n",
    "        if data not in self.adjacency_list:\n",
    "            self.adjacency_list[data] = []\n",
    "            self.number_of_nodes += 1\n",
    "            return\n",
    "    \n",
    "    def insert_edge(self, vertex1, vertex2):\n",
    "        if vertex2 not in self.adjacency_list[vertex1]:\n",
    "            self.adjacency_list[vertex1].append(vertex2)\n",
    "            self.adjacency_list[vertex2].append(vertex1)\n",
    "            return\n",
    "        return 'Edge already exists'\n",
    "    \n",
    "    def show_connections(self):\n",
    "        for node in self.adjacency_list:\n",
    "            print(f'{node} -->> {\" \".join(map(str, self.adjacency_list[node]))}')"
   ]
  },
  {
   "cell_type": "code",
   "execution_count": 2,
   "metadata": {},
   "outputs": [
    {
     "name": "stdout",
     "output_type": "stream",
     "text": [
      "1 -->> 2 3\n",
      "2 -->> 1 3\n",
      "3 -->> 1 2\n",
      "{1: [2, 3], 2: [1, 3], 3: [1, 2]}\n",
      "3\n"
     ]
    }
   ],
   "source": [
    "my_graph = Graph()\n",
    "my_graph.insert_node(1)\n",
    "my_graph.insert_node(2)\n",
    "my_graph.insert_node(3)\n",
    "my_graph.insert_edge(1,2)\n",
    "my_graph.insert_edge(1,3)\n",
    "my_graph.insert_edge(2,3)\n",
    "my_graph.show_connections()\n",
    "print(my_graph.adjacency_list)\n",
    "print(my_graph.number_of_nodes)"
   ]
  }
 ],
 "metadata": {
  "kernelspec": {
   "display_name": "Python 3",
   "language": "python",
   "name": "python3"
  },
  "language_info": {
   "codemirror_mode": {
    "name": "ipython",
    "version": 3
   },
   "file_extension": ".py",
   "mimetype": "text/x-python",
   "name": "python",
   "nbconvert_exporter": "python",
   "pygments_lexer": "ipython3",
   "version": "3.8.3"
  }
 },
 "nbformat": 4,
 "nbformat_minor": 4
}
