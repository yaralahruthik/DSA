{
 "cells": [
  {
   "cell_type": "markdown",
   "metadata": {},
   "source": [
    "# Doubly Linked List Implementation\n",
    "## 1<-->5<-->10<-->"
   ]
  },
  {
   "cell_type": "code",
   "execution_count": 1,
   "metadata": {},
   "outputs": [],
   "source": [
    "class Node():\n",
    "    def __init__(self, data):\n",
    "        self.data = data\n",
    "        self.next = None\n",
    "        self.prev = None"
   ]
  },
  {
   "cell_type": "code",
   "execution_count": 2,
   "metadata": {},
   "outputs": [],
   "source": [
    "class DoublyLinkedList():\n",
    "    def __init__(self):\n",
    "        self.head = None\n",
    "        self.tail = None\n",
    "        \n",
    "    def append(self,data):\n",
    "        new_node = Node(data)\n",
    "        if self.head == None:\n",
    "            self.head = new_node\n",
    "            self.tail = self.head\n",
    "            self.length = 1\n",
    "        else:\n",
    "            self.tail.next = new_node\n",
    "            new_node.prev = self.tail\n",
    "            self.tail = new_node\n",
    "            self.length += 1\n",
    "    def prepend(self,data):\n",
    "        new_node = Node(data)\n",
    "        new_node.next = self.head\n",
    "        self.head.prev = new_node\n",
    "        self.head = new_node\n",
    "        self.length += 1\n",
    "\n",
    "    def insert(self,index,data):\n",
    "        new_node = Node(data)\n",
    "        if index==0:\n",
    "            self.prepend(data)\n",
    "            return\n",
    "        if index >= self.length:\n",
    "            self.append(data)\n",
    "            return\n",
    "        else:         \n",
    "            leader = self.traversetoindex(index - 1)\n",
    "            holder = leader.next\n",
    "            leader.next = new_node\n",
    "            new_node.next = holder\n",
    "            new_node.prev = leader\n",
    "            holder.prev = new_node\n",
    "            self.length+=1\n",
    "\n",
    "    def remove(self,index):\n",
    "        if index==0:\n",
    "            self.head=self.head.next\n",
    "            self.length-=1\n",
    "            return\n",
    "        if index == self.length-1:\n",
    "            self.tail = self.tail.prev\n",
    "            self.tail.next = None\n",
    "            self.length -= 1\n",
    "            return\n",
    "        leader = self.traversetoindex(index-1)\n",
    "        unwanted_node = leader.next\n",
    "        holder = unwanted_node.next\n",
    "        leader.next = holder\n",
    "        holder.prev = leader\n",
    "        self.length -= 1\n",
    "\n",
    "    def traversetoindex(self,index):\n",
    "        curr_node = self.head\n",
    "        i = 0\n",
    "        while i!= index:\n",
    "            curr_node = curr_node.next\n",
    "            i+=1\n",
    "        return curr_node\n",
    "\n",
    "    def printLinkedList(self):\n",
    "        temp = self.head\n",
    "        while temp != None:\n",
    "            print(temp.data , end = '<-->')\n",
    "            temp = temp.next\n",
    "        print('None')\n",
    "        print('Length ' + str(self.length))"
   ]
  },
  {
   "cell_type": "code",
   "execution_count": 3,
   "metadata": {},
   "outputs": [
    {
     "name": "stdout",
     "output_type": "stream",
     "text": [
      "1<-->10<-->22<-->6<-->None\n",
      "Length 4\n"
     ]
    }
   ],
   "source": [
    "d = DoublyLinkedList()\n",
    "d.append(10)\n",
    "d.append(5)\n",
    "d.append(6)\n",
    "d.prepend(1)\n",
    "d.insert(2,22)\n",
    "d.remove(3)\n",
    "d.printLinkedList()"
   ]
  }
 ],
 "metadata": {
  "kernelspec": {
   "display_name": "Python 3",
   "language": "python",
   "name": "python3"
  },
  "language_info": {
   "codemirror_mode": {
    "name": "ipython",
    "version": 3
   },
   "file_extension": ".py",
   "mimetype": "text/x-python",
   "name": "python",
   "nbconvert_exporter": "python",
   "pygments_lexer": "ipython3",
   "version": "3.8.3"
  }
 },
 "nbformat": 4,
 "nbformat_minor": 4
}
