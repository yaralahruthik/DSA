{
 "cells": [
  {
   "cell_type": "markdown",
   "metadata": {},
   "source": [
    "# Queue Implementation"
   ]
  },
  {
   "cell_type": "code",
   "execution_count": 10,
   "metadata": {},
   "outputs": [],
   "source": [
    "class Node():\n",
    "    def __init__(self, data):\n",
    "        self.data = data\n",
    "        self.next = None"
   ]
  },
  {
   "cell_type": "code",
   "execution_count": 11,
   "metadata": {},
   "outputs": [],
   "source": [
    "class Queue():\n",
    "    def __init__(self):\n",
    "        self.front = None\n",
    "        self.rear = None\n",
    "        self.length = 0\n",
    "    \n",
    "    def peek(self):\n",
    "        return self.front.data\n",
    "    \n",
    "    def enqueue(self, data):\n",
    "        new_node = Node(data)\n",
    "        if self.front == None:\n",
    "            self.front = new_node\n",
    "            self.rear = self.front\n",
    "            self.length = 1\n",
    "        else:\n",
    "            self.rear.next = new_node\n",
    "            self.rear = new_node\n",
    "            self.length += 1\n",
    "            \n",
    "    def dequeue(self):\n",
    "        if self.length == 0:\n",
    "            return \n",
    "        temp = self.front\n",
    "        self.front = temp.next\n",
    "        if self.front == None:\n",
    "            self.rear = None\n",
    "    \n",
    "    def printQueue(self):\n",
    "        temp = self.front\n",
    "        while temp != None:\n",
    "            print(temp.data , end = '---')\n",
    "            temp = temp.next\n",
    "        print()\n",
    "        print(self.length)"
   ]
  },
  {
   "cell_type": "code",
   "execution_count": 12,
   "metadata": {},
   "outputs": [
    {
     "name": "stdout",
     "output_type": "stream",
     "text": [
      "google---microsoft---facebook---apple---\n",
      "4\n",
      "microsoft---facebook---apple---\n",
      "4\n",
      "microsoft\n"
     ]
    }
   ],
   "source": [
    "myq = Queue()\n",
    "myq.enqueue('google')\n",
    "myq.enqueue('microsoft')\n",
    "myq.enqueue('facebook')\n",
    "myq.enqueue('apple')\n",
    "myq.printQueue()\n",
    "myq.dequeue()\n",
    "myq.printQueue()\n",
    "x = myq.peek()\n",
    "print(x)"
   ]
  }
 ],
 "metadata": {
  "kernelspec": {
   "display_name": "Python 3",
   "language": "python",
   "name": "python3"
  },
  "language_info": {
   "codemirror_mode": {
    "name": "ipython",
    "version": 3
   },
   "file_extension": ".py",
   "mimetype": "text/x-python",
   "name": "python",
   "nbconvert_exporter": "python",
   "pygments_lexer": "ipython3",
   "version": "3.8.3"
  }
 },
 "nbformat": 4,
 "nbformat_minor": 4
}
