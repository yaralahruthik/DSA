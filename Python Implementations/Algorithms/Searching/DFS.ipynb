{
 "cells": [
  {
   "cell_type": "code",
   "execution_count": 1,
   "metadata": {},
   "outputs": [],
   "source": [
    "class Node:\n",
    "    def __init__(self,val):\n",
    "        self.val = val\n",
    "        self.left = None\n",
    "        self.right = None"
   ]
  },
  {
   "cell_type": "code",
   "execution_count": 2,
   "metadata": {},
   "outputs": [],
   "source": [
    "class BinarySearchTree:\n",
    "    def __init__(self):\n",
    "        self.root = None\n",
    "  \n",
    "    def insert(self,val):\n",
    "        new_node = Node(val)\n",
    "        if self.root == None:\n",
    "            self.root = new_node\n",
    "            return \n",
    "        temp = self.root\n",
    "        while True:\n",
    "            if new_node.val < temp.val:\n",
    "                if temp.left == None:\n",
    "                    temp.left = new_node\n",
    "                    break\n",
    "                else:\n",
    "                    temp = temp.left\n",
    "            elif new_node.val > temp.val:\n",
    "                if temp.right == None:\n",
    "                    temp.right = new_node\n",
    "                    break\n",
    "                else:\n",
    "                    temp = temp.right\n",
    "\n",
    "    def lookup(self,val):\n",
    "        temp = self.root\n",
    "        while True:\n",
    "            if temp.val == val:\n",
    "                return True\n",
    "            elif temp == None:\n",
    "                return False\n",
    "            elif val < temp.val:\n",
    "                temp = temp.left\n",
    "            elif val > temp.val:\n",
    "                temp = temp.right\n",
    "                \n",
    "    # Three types of DFS Traversals \n",
    "                \n",
    "    def inorder(self,currnode,mylist):\n",
    "        if currnode != None:\n",
    "            self.inorder(currnode.left,mylist)\n",
    "            mylist.append(currnode.val)\n",
    "            self.inorder(currnode.right,mylist)\n",
    "        return mylist\n",
    "\n",
    "    def preorder(self,currnode,mylist):\n",
    "        if currnode!=None:\n",
    "            mylist.append(currnode.val)\n",
    "            self.preorder(currnode.left,mylist)\n",
    "            self.preorder(currnode.right,mylist)\n",
    "        return mylist\n",
    "\n",
    "    def postorder(self,currnode,mylist):\n",
    "        if currnode.left:\n",
    "            self.postorder(currnode.left,mylist)\n",
    "        if currnode.right:\n",
    "            self.postorder(currnode.right,mylist)\n",
    "        mylist.append(currnode.val)\n",
    "        return mylist"
   ]
  },
  {
   "cell_type": "code",
   "execution_count": 3,
   "metadata": {},
   "outputs": [
    {
     "name": "stdout",
     "output_type": "stream",
     "text": [
      "[1, 4, 6, 9, 15, 20, 170]\n",
      "[9, 4, 1, 6, 20, 15, 170]\n",
      "[1, 6, 4, 15, 170, 20, 9]\n"
     ]
    }
   ],
   "source": [
    "tree = BinarySearchTree()\n",
    "tree.insert(9)\n",
    "tree.insert(4)\n",
    "tree.insert(6)\n",
    "tree.insert(20)\n",
    "tree.insert(170)\n",
    "tree.insert(15)\n",
    "tree.insert(1)\n",
    "print(tree.inorder(tree.root,[]))\n",
    "print(tree.preorder(tree.root,[]))\n",
    "print(tree.postorder(tree.root,[]))"
   ]
  },
  {
   "cell_type": "code",
   "execution_count": null,
   "metadata": {},
   "outputs": [],
   "source": []
  }
 ],
 "metadata": {
  "kernelspec": {
   "display_name": "Python 3",
   "language": "python",
   "name": "python3"
  },
  "language_info": {
   "codemirror_mode": {
    "name": "ipython",
    "version": 3
   },
   "file_extension": ".py",
   "mimetype": "text/x-python",
   "name": "python",
   "nbconvert_exporter": "python",
   "pygments_lexer": "ipython3",
   "version": "3.8.3"
  }
 },
 "nbformat": 4,
 "nbformat_minor": 4
}
