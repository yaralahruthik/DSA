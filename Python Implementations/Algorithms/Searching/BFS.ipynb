{
 "cells": [
  {
   "cell_type": "code",
   "execution_count": 1,
   "metadata": {},
   "outputs": [],
   "source": [
    "class Node:\n",
    "    def __init__(self,val):\n",
    "        self.val = val\n",
    "        self.left = None\n",
    "        self.right = None"
   ]
  },
  {
   "cell_type": "code",
   "execution_count": 4,
   "metadata": {},
   "outputs": [],
   "source": [
    "class BinarySearchTree:\n",
    "    def __init__(self):\n",
    "        self.root = None\n",
    "  \n",
    "    def insert(self,val):\n",
    "        new_node = Node(val)\n",
    "        if self.root == None:\n",
    "            self.root = new_node\n",
    "            return \n",
    "        temp = self.root\n",
    "        while True:\n",
    "            if new_node.val < temp.val:\n",
    "                if temp.left == None:\n",
    "                    temp.left = new_node\n",
    "                    break\n",
    "                else:\n",
    "                    temp = temp.left\n",
    "            elif new_node.val > temp.val:\n",
    "                if temp.right == None:\n",
    "                    temp.right = new_node\n",
    "                    break\n",
    "                else:\n",
    "                    temp = temp.right\n",
    "\n",
    "    def lookup(self,val):\n",
    "        temp = self.root\n",
    "        while True:\n",
    "            if temp.val == val:\n",
    "                return True\n",
    "            elif temp == None:\n",
    "                return False\n",
    "            elif val < temp.val:\n",
    "                temp = temp.left\n",
    "            elif val > temp.val:\n",
    "                temp = temp.right\n",
    "\n",
    "    def breadthfirstsearch(self):\n",
    "        currnode = self.root\n",
    "        mylist = []\n",
    "        queue = []\n",
    "        queue.append(currnode)\n",
    "\n",
    "        while len(queue) > 0:\n",
    "            currnode = queue[0]\n",
    "            del queue[0]\n",
    "            mylist.append(currnode.val)\n",
    "            if currnode.left:\n",
    "                queue.append(currnode.left)\n",
    "            if currnode.right:\n",
    "                queue.append(currnode.right)\n",
    "        return mylist\n",
    "  \n",
    "    def recursivebfs(self,queue,mylist):\n",
    "        if len(queue) == 0:\n",
    "            return mylist\n",
    "        currnode = queue[0]\n",
    "        del queue[0]\n",
    "        mylist.append(currnode.val)\n",
    "        if currnode.left:\n",
    "            queue.append(currnode.left)\n",
    "        if currnode.right:\n",
    "            queue.append(currnode.right)\n",
    "        return self.recursivebfs(queue,mylist)"
   ]
  },
  {
   "cell_type": "code",
   "execution_count": 5,
   "metadata": {},
   "outputs": [
    {
     "name": "stdout",
     "output_type": "stream",
     "text": [
      "True\n",
      "[9, 4, 20, 1, 6, 15, 170]\n",
      "[9, 4, 20, 1, 6, 15, 170]\n"
     ]
    }
   ],
   "source": [
    "tree = BinarySearchTree()\n",
    "tree.insert(9)\n",
    "tree.insert(4)\n",
    "tree.insert(6)\n",
    "tree.insert(20)\n",
    "tree.insert(170)\n",
    "tree.insert(15)\n",
    "tree.insert(1)\n",
    "\n",
    "x = tree.lookup(170)\n",
    "print(x)  \n",
    "print(tree.breadthfirstsearch())\n",
    "print(tree.recursivebfs([tree.root],[]))"
   ]
  }
 ],
 "metadata": {
  "kernelspec": {
   "display_name": "Python 3",
   "language": "python",
   "name": "python3"
  },
  "language_info": {
   "codemirror_mode": {
    "name": "ipython",
    "version": 3
   },
   "file_extension": ".py",
   "mimetype": "text/x-python",
   "name": "python",
   "nbconvert_exporter": "python",
   "pygments_lexer": "ipython3",
   "version": "3.8.3"
  }
 },
 "nbformat": 4,
 "nbformat_minor": 4
}
