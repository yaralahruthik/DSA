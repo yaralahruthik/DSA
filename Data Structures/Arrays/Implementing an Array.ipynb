{
 "cells": [
  {
   "cell_type": "code",
   "execution_count": 8,
   "metadata": {},
   "outputs": [],
   "source": [
    "class Array:\n",
    "    def __init__(self):\n",
    "        self.length = 0\n",
    "        self.data = {}\n",
    "    \n",
    "    def __str__(self):\n",
    "        return str(self.__dict__)\n",
    "    \n",
    "    def get(self, index):\n",
    "        return self.data[index]\n",
    "    \n",
    "    def push(self, item):\n",
    "        self.data[self.length] = item\n",
    "        self.length += 1\n",
    "    \n",
    "    def pop(self):\n",
    "        lastItem = self.data[self.length-1]\n",
    "        del self.data[self.length-1]\n",
    "        self.length -= 1\n",
    "        return lastItem\n",
    "    \n",
    "    def delete(self, index):\n",
    "        deletedItem = self.data[index]\n",
    "        for i in range(index, self.length-1):\n",
    "            self.data[i] = self.data[i+1]\n",
    "        \n",
    "        del self.data[self.length-1]\n",
    "        self.length -= 1\n",
    "        return deletedItem"
   ]
  },
  {
   "cell_type": "code",
   "execution_count": 9,
   "metadata": {},
   "outputs": [
    {
     "name": "stdout",
     "output_type": "stream",
     "text": [
      "{'length': 5, 'data': {0: 3, 1: 'hi', 2: 34, 3: 'hey', 4: 'welcome'}}\n"
     ]
    }
   ],
   "source": [
    "arr=Array()\n",
    "arr.push(3)\n",
    "arr.push('hi')\n",
    "arr.push(34)\n",
    "arr.push(20)\n",
    "arr.push('hey')\n",
    "arr.push('welcome')\n",
    "arr.delete(3)\n",
    "print(arr)"
   ]
  },
  {
   "cell_type": "code",
   "execution_count": null,
   "metadata": {},
   "outputs": [],
   "source": []
  }
 ],
 "metadata": {
  "kernelspec": {
   "display_name": "Python 3",
   "language": "python",
   "name": "python3"
  },
  "language_info": {
   "codemirror_mode": {
    "name": "ipython",
    "version": 3
   },
   "file_extension": ".py",
   "mimetype": "text/x-python",
   "name": "python",
   "nbconvert_exporter": "python",
   "pygments_lexer": "ipython3",
   "version": "3.8.3"
  }
 },
 "nbformat": 4,
 "nbformat_minor": 4
}
