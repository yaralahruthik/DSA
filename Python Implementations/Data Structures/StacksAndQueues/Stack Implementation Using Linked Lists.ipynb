{
 "cells": [
  {
   "cell_type": "markdown",
   "metadata": {},
   "source": [
    "# Stack Implementation Using Linked Lists"
   ]
  },
  {
   "cell_type": "code",
   "execution_count": 1,
   "metadata": {},
   "outputs": [],
   "source": [
    "class Node():\n",
    "    def __init__(self, data):\n",
    "        self.data = data\n",
    "        self.next = None"
   ]
  },
  {
   "cell_type": "code",
   "execution_count": 5,
   "metadata": {},
   "outputs": [],
   "source": [
    "class Stack():\n",
    "    def __init__(self):\n",
    "        self.top = None\n",
    "        self.bottom = None\n",
    "        self.length = 0\n",
    "    \n",
    "    def peek(self):\n",
    "        return self.top.data\n",
    "    \n",
    "    def push(self, data):\n",
    "        new_node = Node(data)\n",
    "        if self.bottom == None:\n",
    "            self.bottom = new_node\n",
    "            self.top = self.bottom\n",
    "            self.length = 1\n",
    "        else:\n",
    "            new_node.next = self.top\n",
    "            self.top = new_node\n",
    "            self.length += 1\n",
    "    \n",
    "    def pop(self):\n",
    "        if not self.top:\n",
    "            return None\n",
    "        holderPointer = self.top\n",
    "        self.top = self.top.next\n",
    "        self.length -= 1\n",
    "        if self.length == 0:\n",
    "            self.bottom = None\n",
    "        return holderPointer.data\n",
    "    \n",
    "    def printStack(self):\n",
    "        temp = self.top\n",
    "        while temp != None:\n",
    "            print(temp.data, end='|')\n",
    "            temp = temp.next\n",
    "        print()"
   ]
  },
  {
   "cell_type": "code",
   "execution_count": 4,
   "metadata": {},
   "outputs": [
    {
     "name": "stdout",
     "output_type": "stream",
     "text": [
      "apple->facebook->microsoft->google->\n",
      "apple\n",
      "apple\n",
      "facebook->microsoft->google->\n",
      "facebook\n"
     ]
    }
   ],
   "source": [
    "mystack = Stack()\n",
    "mystack.push('google')\n",
    "mystack.push('microsoft')\n",
    "mystack.push('facebook')\n",
    "mystack.push('apple')\n",
    "mystack.printStack()\n",
    "x = mystack.peek()\n",
    "print(x)\n",
    "y=mystack.pop()\n",
    "print(y)\n",
    "mystack.printStack()\n",
    "qw = mystack.peek()\n",
    "print(qw)"
   ]
  },
  {
   "cell_type": "code",
   "execution_count": null,
   "metadata": {},
   "outputs": [],
   "source": []
  }
 ],
 "metadata": {
  "kernelspec": {
   "display_name": "Python 3",
   "language": "python",
   "name": "python3"
  },
  "language_info": {
   "codemirror_mode": {
    "name": "ipython",
    "version": 3
   },
   "file_extension": ".py",
   "mimetype": "text/x-python",
   "name": "python",
   "nbconvert_exporter": "python",
   "pygments_lexer": "ipython3",
   "version": "3.8.3"
  }
 },
 "nbformat": 4,
 "nbformat_minor": 4
}
