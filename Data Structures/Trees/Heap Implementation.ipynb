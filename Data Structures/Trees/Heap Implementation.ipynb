{
 "cells": [
  {
   "cell_type": "markdown",
   "metadata": {},
   "source": [
    "## Heap Implementation"
   ]
  },
  {
   "cell_type": "code",
   "execution_count": 4,
   "metadata": {},
   "outputs": [],
   "source": [
    "import sys\n",
    "class MaxHeap:\n",
    "    def __init__(self, maxsize):\n",
    "        self.maxsize = maxsize\n",
    "        self.size = 0\n",
    "        self.Heap = [0] * (self.maxsize + 1)\n",
    "        self.Heap[0] = sys.maxsize\n",
    "        self.FRONT = 1\n",
    "    \n",
    "    def parent(self, pos):\n",
    "        return pos // 2\n",
    "    \n",
    "    def left_child(self, pos):\n",
    "        return 2 * pos\n",
    "    \n",
    "    def right_child(self, pos):\n",
    "        return (2 * pos) + 1\n",
    "    \n",
    "    def is_leaf(self, pos):\n",
    "        if pos >= (self.size // 2) and pos <= self.size:\n",
    "            return True\n",
    "        return False\n",
    "    \n",
    "    def swap(self, fpos, spos):\n",
    "        self.Heap[fpos], self.Heap[spos] = self.Heap[spos], self.Heap[fpos]\n",
    "        \n",
    "    def max_heapify(self, pos):\n",
    "        if not self.is_leaf(pos):\n",
    "            if (self.Heap[pos] < self.Heap[self.left_child(pos)] or self.Heap[pos] < self.Heap[self.right_child(pos)]):\n",
    "                if self.Heap[self.left_child(pos)] > self.Heap[self.right_child(pos)]:\n",
    "                    self.swap(pos, self.left_child(pos))\n",
    "                    self.max_heapify(self.left_child(pos))\n",
    "                else:\n",
    "                    self.swap(pos, self.right_child(pos))\n",
    "                    self.max_heapify(self.right_child(pos))\n",
    "    \n",
    "    def insert(self, element):\n",
    "        if self.size >= self.maxsize:\n",
    "            return\n",
    "        self.size += 1\n",
    "        self.Heap[self.size] = element\n",
    "        current = self.size\n",
    "        while self.Heap[current] > self.Heap[self.parent(current)]:\n",
    "            self.swap(current, self.parent(current))\n",
    "            current = self.parent(current)\n",
    "    \n",
    "    def print_heap(self):\n",
    "        for i in range(1, (self.size // 2) + 1):\n",
    "            print(\"PARENT : \" + str(self.Heap[i]) + \" LEFT CHILD : \" + str(self.Heap[2 * i]) + \" RIGHT CHILD : \" + str(self.Heap[2 * i + 1]))\n",
    "            \n",
    "    def extract_max(self):\n",
    "        popped = self.Heap[self.FRONT]\n",
    "        self.Heap[self.FRONT] = self.Heap[self.size]\n",
    "        self.size -= 1\n",
    "        self.max_heapify(self.FRONT)\n",
    "        return popped"
   ]
  },
  {
   "cell_type": "code",
   "execution_count": 5,
   "metadata": {},
   "outputs": [
    {
     "name": "stdout",
     "output_type": "stream",
     "text": [
      "PARENT : 84 LEFT CHILD : 22 RIGHT CHILD : 19\n",
      "PARENT : 22 LEFT CHILD : 17 RIGHT CHILD : 10\n",
      "PARENT : 19 LEFT CHILD : 5 RIGHT CHILD : 6\n",
      "PARENT : 17 LEFT CHILD : 3 RIGHT CHILD : 9\n",
      "The Max val is 84\n",
      "PARENT : 22 LEFT CHILD : 17 RIGHT CHILD : 19\n",
      "PARENT : 17 LEFT CHILD : 9 RIGHT CHILD : 10\n",
      "PARENT : 19 LEFT CHILD : 5 RIGHT CHILD : 6\n",
      "PARENT : 9 LEFT CHILD : 3 RIGHT CHILD : 9\n",
      "PARENT : 100 LEFT CHILD : 22 RIGHT CHILD : 19\n",
      "PARENT : 22 LEFT CHILD : 17 RIGHT CHILD : 10\n",
      "PARENT : 19 LEFT CHILD : 5 RIGHT CHILD : 6\n",
      "PARENT : 17 LEFT CHILD : 3 RIGHT CHILD : 9\n"
     ]
    }
   ],
   "source": [
    "my_heap = MaxHeap(15)\n",
    "my_heap.insert(5)\n",
    "my_heap.insert(3)\n",
    "my_heap.insert(17)\n",
    "my_heap.insert(10)\n",
    "my_heap.insert(84)\n",
    "my_heap.insert(19)\n",
    "my_heap.insert(6)\n",
    "my_heap.insert(22)\n",
    "my_heap.insert(9)\n",
    "my_heap.print_heap()\n",
    "print(\"The Max val is \" + str(my_heap.extract_max()))\n",
    "my_heap.print_heap()\n",
    "my_heap.insert(100)\n",
    "my_heap.print_heap()"
   ]
  }
 ],
 "metadata": {
  "kernelspec": {
   "display_name": "Python 3",
   "language": "python",
   "name": "python3"
  },
  "language_info": {
   "codemirror_mode": {
    "name": "ipython",
    "version": 3
   },
   "file_extension": ".py",
   "mimetype": "text/x-python",
   "name": "python",
   "nbconvert_exporter": "python",
   "pygments_lexer": "ipython3",
   "version": "3.8.3"
  }
 },
 "nbformat": 4,
 "nbformat_minor": 4
}
