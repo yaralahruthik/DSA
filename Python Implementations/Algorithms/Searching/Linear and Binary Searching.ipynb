{
 "cells": [
  {
   "cell_type": "markdown",
   "metadata": {},
   "source": [
    "## Sequential Search or Linear Search\n",
    "### Time Complexity is O(n) for the average and worst case, while O(1) for the best case.\n",
    "Basic searching technique."
   ]
  },
  {
   "cell_type": "code",
   "execution_count": 1,
   "metadata": {},
   "outputs": [],
   "source": [
    "def seqSearch(arr, ele):\n",
    "    '''\n",
    "    Normal sequential search. Input array is unordered.\n",
    "    '''\n",
    "    pos = 0\n",
    "    found = False\n",
    "    \n",
    "    while pos < len(arr) and not found:\n",
    "        if arr[pos] == ele:\n",
    "            found = True\n",
    "        else:\n",
    "            pos += 1\n",
    "    return found\n",
    "\n",
    "\n",
    "def ordSeqSearch(arr, ele):\n",
    "    '''\n",
    "    Ordered sequential search. Input array must be sorted.\n",
    "    '''\n",
    "    pos = 0\n",
    "    found = False\n",
    "    stopped = False\n",
    "    \n",
    "    while pos < len(arr) and not found and not stopped:\n",
    "        if arr[pos] == ele:\n",
    "            found = True\n",
    "        else:\n",
    "            if arr[pos] > ele:\n",
    "                stopped = True\n",
    "            else:\n",
    "                pos += 1\n",
    "    return found"
   ]
  },
  {
   "cell_type": "markdown",
   "metadata": {},
   "source": [
    "## Binary Seach\n",
    "### Time Complexity is O(log(n)) for the average and worst case, while O(1) for the best case.\n",
    "Input must be ordered. Starts by examining the middle item. Uses Divide and Conquer!\n",
    "Each comparision eliminates half of the remaining items."
   ]
  },
  {
   "cell_type": "code",
   "execution_count": 2,
   "metadata": {},
   "outputs": [],
   "source": [
    "def iterBinSeach(arr, ele):\n",
    "    '''\n",
    "    Iterative version of Binary Search.\n",
    "    '''\n",
    "    first = 0\n",
    "    last = len(arr)-1\n",
    "    found = False\n",
    "    \n",
    "    while first <= last and not found:\n",
    "        mid = (first+last)//2\n",
    "        \n",
    "        if arr[mid] == ele:\n",
    "            found = True\n",
    "        else:\n",
    "            if ele < arr[mid]:\n",
    "                last = mid-1\n",
    "            else:\n",
    "                first = mid+1\n",
    "    return found\n",
    "\n",
    "\n",
    "def recBinSearch(arr, ele):\n",
    "    '''\n",
    "    Recursive version of Binary Search\n",
    "    '''\n",
    "    if len(arr) == 0:\n",
    "        return False\n",
    "    else:\n",
    "        mid = len(arr)//2\n",
    "        if arr[mid] == ele:\n",
    "            return True\n",
    "        else:\n",
    "            if ele < arr[mid]:\n",
    "                return recBinSearch(arr[:mid], ele)\n",
    "            else:\n",
    "                return recBinSearch(arr[mid+1:], ele)"
   ]
  }
 ],
 "metadata": {
  "kernelspec": {
   "display_name": "Python 3",
   "language": "python",
   "name": "python3"
  },
  "language_info": {
   "codemirror_mode": {
    "name": "ipython",
    "version": 3
   },
   "file_extension": ".py",
   "mimetype": "text/x-python",
   "name": "python",
   "nbconvert_exporter": "python",
   "pygments_lexer": "ipython3",
   "version": "3.8.3"
  }
 },
 "nbformat": 4,
 "nbformat_minor": 4
}
