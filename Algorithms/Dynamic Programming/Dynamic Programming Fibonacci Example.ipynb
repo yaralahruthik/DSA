{
 "cells": [
  {
   "cell_type": "code",
   "execution_count": 19,
   "metadata": {},
   "outputs": [],
   "source": [
    "from functools import lru_cache\n",
    "\n",
    "@lru_cache(maxsize = 1000)\n",
    "def fib(n):\n",
    "    if n < 2:\n",
    "        return n\n",
    "    else:\n",
    "        return fib(n-1) + fib(n-2)"
   ]
  },
  {
   "cell_type": "code",
   "execution_count": 20,
   "metadata": {},
   "outputs": [
    {
     "name": "stdout",
     "output_type": "stream",
     "text": [
      "55\n",
      "CacheInfo(hits=8, misses=11, maxsize=1000, currsize=11)\n"
     ]
    }
   ],
   "source": [
    "print(fib(10))\n",
    "print(fib.cache_info())"
   ]
  },
  {
   "cell_type": "code",
   "execution_count": 21,
   "metadata": {},
   "outputs": [],
   "source": [
    "cache = {}\n",
    "def fibo(n):\n",
    "    if n in cache:\n",
    "        return cache[n]\n",
    "    elif n < 2:\n",
    "        cache[n] = n\n",
    "        return cache[n]\n",
    "    else:\n",
    "        cache[n] = fib(n-1) + fib(n-2)\n",
    "        return cache[n]"
   ]
  },
  {
   "cell_type": "code",
   "execution_count": 22,
   "metadata": {},
   "outputs": [
    {
     "name": "stdout",
     "output_type": "stream",
     "text": [
      "{8: 21}\n",
      "21\n"
     ]
    }
   ],
   "source": [
    "x = fibo(8)\n",
    "print(cache)\n",
    "print(x)"
   ]
  }
 ],
 "metadata": {
  "kernelspec": {
   "display_name": "Python 3",
   "language": "python",
   "name": "python3"
  },
  "language_info": {
   "codemirror_mode": {
    "name": "ipython",
    "version": 3
   },
   "file_extension": ".py",
   "mimetype": "text/x-python",
   "name": "python",
   "nbconvert_exporter": "python",
   "pygments_lexer": "ipython3",
   "version": "3.8.3"
  }
 },
 "nbformat": 4,
 "nbformat_minor": 4
}
