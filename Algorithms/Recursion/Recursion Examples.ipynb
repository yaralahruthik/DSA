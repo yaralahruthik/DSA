{
 "cells": [
  {
   "cell_type": "markdown",
   "metadata": {},
   "source": [
    "## Factorial Example"
   ]
  },
  {
   "cell_type": "code",
   "execution_count": 1,
   "metadata": {},
   "outputs": [],
   "source": [
    "def iterFact(num):\n",
    "    f = 1\n",
    "    for i in range(1, num+1):\n",
    "        f = f * i\n",
    "    return f\n",
    "\n",
    "def recFact(num):\n",
    "    if num <= 1:\n",
    "        return 1\n",
    "    else:\n",
    "        return num * recFact(num-1)"
   ]
  },
  {
   "cell_type": "markdown",
   "metadata": {},
   "source": [
    "## Fibonacci Example"
   ]
  },
  {
   "cell_type": "code",
   "execution_count": 2,
   "metadata": {},
   "outputs": [],
   "source": [
    "def iterFib(index):\n",
    "    firstNumber = 0\n",
    "    secondNumber = 1\n",
    "    if index == 0:\n",
    "        return firstNumber\n",
    "    if index == 1:\n",
    "        return secondNumber\n",
    "    for i in range(2, index+1):\n",
    "        thirdNumber = firstNumber + secondNumber\n",
    "        firstNumber = secondNumber\n",
    "        secondNumber = thirdNumber\n",
    "    return thirdNumber\n",
    "\n",
    "def recFib(index):\n",
    "    if index == 0:\n",
    "        return 0\n",
    "    if index == 1:\n",
    "        return 1\n",
    "    return recFib(index-1) + recFib(index-2)"
   ]
  },
  {
   "cell_type": "markdown",
   "metadata": {},
   "source": [
    "## Reverse a String Example"
   ]
  },
  {
   "cell_type": "code",
   "execution_count": 3,
   "metadata": {},
   "outputs": [],
   "source": [
    "def iterReverse(s):\n",
    "    revS = ''\n",
    "    for i in range(len(s)):\n",
    "        revS = revS + s[len(s)-i-1]\n",
    "    return revS\n",
    "\n",
    "def recReverse(s):\n",
    "    if len(s) == 0:\n",
    "        return s\n",
    "    else:\n",
    "        return recReverse(s[1:]) + s[0]"
   ]
  }
 ],
 "metadata": {
  "kernelspec": {
   "display_name": "Python 3",
   "language": "python",
   "name": "python3"
  },
  "language_info": {
   "codemirror_mode": {
    "name": "ipython",
    "version": 3
   },
   "file_extension": ".py",
   "mimetype": "text/x-python",
   "name": "python",
   "nbconvert_exporter": "python",
   "pygments_lexer": "ipython3",
   "version": "3.8.3"
  }
 },
 "nbformat": 4,
 "nbformat_minor": 4
}
